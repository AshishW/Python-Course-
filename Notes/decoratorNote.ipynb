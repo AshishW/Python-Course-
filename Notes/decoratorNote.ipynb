{
 "cells": [
  {
   "cell_type": "markdown",
   "metadata": {},
   "source": [
    "# Decorators\n",
    "decorators super charges the function"
   ]
  },
  {
   "cell_type": "code",
   "execution_count": 6,
   "metadata": {},
   "outputs": [
    {
     "name": "stdout",
     "output_type": "stream",
     "text": [
      "*****\n",
      "hello\n"
     ]
    }
   ],
   "source": [
    "#Decorator Pattern:\n",
    "\n",
    "def my_fun(func):\n",
    "    def wrapper(*args, **kwargs):\n",
    "        print('*****')\n",
    "        return func(*args, **kwargs)\n",
    "    return wrapper\n",
    "\n",
    "@my_fun\n",
    "def say_hello():\n",
    "    print('hello')\n",
    "\n",
    "say_hello()"
   ]
  },
  {
   "cell_type": "markdown",
   "metadata": {},
   "source": [
    "The above code is equivalent to this:"
   ]
  },
  {
   "cell_type": "code",
   "execution_count": 10,
   "metadata": {},
   "outputs": [
    {
     "name": "stdout",
     "output_type": "stream",
     "text": [
      "*****\n",
      "hello\n"
     ]
    }
   ],
   "source": [
    "def my_fun(func):\n",
    "    def wrapper(*args, **kwargs):\n",
    "        print('*****')\n",
    "        return func(*args, **kwargs)\n",
    "    return wrapper\n",
    "\n",
    "# @my_fun\n",
    "def say_hello():\n",
    "    print('hello')\n",
    "\n",
    "my_fun(say_hello)()\n",
    "#or a = my_fun(say_hello)\n",
    "# a()"
   ]
  }
 ],
 "metadata": {
  "kernelspec": {
   "display_name": "Python 3.9.12 ('base')",
   "language": "python",
   "name": "python3"
  },
  "language_info": {
   "codemirror_mode": {
    "name": "ipython",
    "version": 3
   },
   "file_extension": ".py",
   "mimetype": "text/x-python",
   "name": "python",
   "nbconvert_exporter": "python",
   "pygments_lexer": "ipython3",
   "version": "3.9.12"
  },
  "orig_nbformat": 4,
  "vscode": {
   "interpreter": {
    "hash": "9e0493c01e5c605911eb56ab5078ad68602ef442154612cb5b43a7fdd4b978e8"
   }
  }
 },
 "nbformat": 4,
 "nbformat_minor": 2
}
