{
 "cells": [
  {
   "cell_type": "markdown",
   "metadata": {},
   "source": [
    "\n",
    "<font color = 'orange'>### Exception Handling</font>"
   ]
  },
  {
   "cell_type": "code",
   "execution_count": 12,
   "metadata": {},
   "outputs": [
    {
     "name": "stdout",
     "output_type": "stream",
     "text": [
      "age:  12\n"
     ]
    }
   ],
   "source": [
    "try:\n",
    "    age  = int(input('enter your age: '))\n",
    "    print(\"age: \", age)\n",
    "except:\n",
    "    print(\"please enter a number\")"
   ]
  },
  {
   "cell_type": "markdown",
   "metadata": {},
   "source": [
    "*<font color = 'cyan'>The above code doesn't ask for age again if the exception runs. So, to make that work we can use a while loop</font>*"
   ]
  },
  {
   "cell_type": "code",
   "execution_count": 13,
   "metadata": {},
   "outputs": [
    {
     "name": "stdout",
     "output_type": "stream",
     "text": [
      "please enter valid age\n",
      "age 12\n",
      "thank you!\n"
     ]
    }
   ],
   "source": [
    "while True:\n",
    "    try:\n",
    "        age = int(input('enter your age: '))\n",
    "        print(\"age\",age)\n",
    "    except: #except block is executed if there is exception/error in the try block\n",
    "        print('please enter valid age')\n",
    "    else: #else runs if there is no exception\n",
    "        print('thank you!')\n",
    "        break"
   ]
  },
  {
   "cell_type": "markdown",
   "metadata": {},
   "source": [
    "Good practice is to use specific exception when doing exception handling."
   ]
  },
  {
   "cell_type": "code",
   "execution_count": 16,
   "metadata": {},
   "outputs": [
    {
     "name": "stdout",
     "output_type": "stream",
     "text": [
      "please enter valid age. invalid literal for int() with base 10: 'a;df'\n",
      "20\n",
      "thank you!\n"
     ]
    }
   ],
   "source": [
    "#specific exception\n",
    "while True:\n",
    "    try:\n",
    "        age = int(input('enter your age: '))\n",
    "        print(age)\n",
    "    except ValueError as err: #except block is executed if there is ValueError exception/error in the try block\n",
    "        print(f'please enter valid age. {err}')\n",
    "    else: #else runs if there is no exception\n",
    "        print('thank you!')\n",
    "        break\n"
   ]
  },
  {
   "cell_type": "markdown",
   "metadata": {},
   "source": [
    "### Finally:"
   ]
  },
  {
   "cell_type": "code",
   "execution_count": 18,
   "metadata": {},
   "outputs": [
    {
     "name": "stdout",
     "output_type": "stream",
     "text": [
      "please enter valid age invalid literal for int() with base 10: 'adf'\n",
      "finally it's done 😅\n",
      "8\n",
      "thank you!\n",
      "finally it's done 😅\n"
     ]
    }
   ],
   "source": [
    "#specific exception\n",
    "while True:\n",
    "    try:\n",
    "        age = int(input('enter your age: '))\n",
    "        print(age)\n",
    "    except ValueError as err: #except block is executed if there is exception/error in the try block\n",
    "        print(f'please enter valid age {err}')\n",
    "    else: #else runs if there is no exception\n",
    "        print('thank you!')\n",
    "        break\n",
    "    finally:\n",
    "        print(\"finally it's done 😅\")"
   ]
  },
  {
   "cell_type": "code",
   "execution_count": 20,
   "metadata": {},
   "outputs": [
    {
     "ename": "ValueError",
     "evalue": "oops, something wrong with the values",
     "output_type": "error",
     "traceback": [
      "\u001b[1;31m---------------------------------------------------------------------------\u001b[0m",
      "\u001b[1;31mValueError\u001b[0m                                Traceback (most recent call last)",
      "\u001b[1;32md:\\python Course\\Notes\\error_handling.ipynb Cell 9\u001b[0m in \u001b[0;36m<cell line: 2>\u001b[1;34m()\u001b[0m\n\u001b[0;32m      <a href='vscode-notebook-cell:/d%3A/python%20Course/Notes/error_handling.ipynb#X21sZmlsZQ%3D%3D?line=0'>1</a>\u001b[0m \u001b[39m# raise exceptions \u001b[39;00m\n\u001b[1;32m----> <a href='vscode-notebook-cell:/d%3A/python%20Course/Notes/error_handling.ipynb#X21sZmlsZQ%3D%3D?line=1'>2</a>\u001b[0m \u001b[39mraise\u001b[39;00m \u001b[39mValueError\u001b[39;00m(\u001b[39m\"\u001b[39m\u001b[39moops, something wrong with the values\u001b[39m\u001b[39m\"\u001b[39m)\n",
      "\u001b[1;31mValueError\u001b[0m: oops, something wrong with the values"
     ]
    }
   ],
   "source": [
    "# raise exceptions \n",
    "raise ValueError(\"oops, something wrong with the values\")"
   ]
  }
 ],
 "metadata": {
  "kernelspec": {
   "display_name": "Python 3.9.12 ('base')",
   "language": "python",
   "name": "python3"
  },
  "language_info": {
   "codemirror_mode": {
    "name": "ipython",
    "version": 3
   },
   "file_extension": ".py",
   "mimetype": "text/x-python",
   "name": "python",
   "nbconvert_exporter": "python",
   "pygments_lexer": "ipython3",
   "version": "3.9.12"
  },
  "orig_nbformat": 4,
  "vscode": {
   "interpreter": {
    "hash": "9e0493c01e5c605911eb56ab5078ad68602ef442154612cb5b43a7fdd4b978e8"
   }
  }
 },
 "nbformat": 4,
 "nbformat_minor": 2
}
