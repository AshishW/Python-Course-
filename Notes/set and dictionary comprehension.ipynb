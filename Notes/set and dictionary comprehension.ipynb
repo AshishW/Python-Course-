{
 "cells": [
  {
   "cell_type": "markdown",
   "id": "10f419f3",
   "metadata": {},
   "source": [
    "#Set and Dictionary Comprehension"
   ]
  },
  {
   "cell_type": "code",
   "execution_count": 1,
   "id": "b2f6060e",
   "metadata": {},
   "outputs": [
    {
     "name": "stdout",
     "output_type": "stream",
     "text": [
      "{'l', 'h', 'o', 'e'}\n"
     ]
    }
   ],
   "source": [
    "my_set = {char for char in 'hello'}\n",
    "print(my_set)"
   ]
  },
  {
   "cell_type": "code",
   "execution_count": 2,
   "id": "fb643a1e",
   "metadata": {},
   "outputs": [
    {
     "name": "stdout",
     "output_type": "stream",
     "text": [
      "{1, 3969, 4225, 9, 3721, 4489, 5625, 529, 1681, 7569, 25, 3481, 4761, 289, 2209, 6561, 169, 2601, 5929, 49, 3249, 5041, 2809, 441, 1849, 7225, 961, 1089, 9025, 9409, 841, 1225, 8649, 9801, 81, 3025, 5329, 1369, 729, 8281, 225, 2401, 6241, 361, 2025, 6889, 625, 1521, 7921, 121}\n"
     ]
    }
   ],
   "source": [
    "my_set2 = {num ** 2 for num in range(0,100) if num % 2 != 0}\n",
    "print(my_set2)"
   ]
  },
  {
   "cell_type": "markdown",
   "id": "f2625d7b",
   "metadata": {},
   "source": [
    "Dictionary comprehension"
   ]
  },
  {
   "cell_type": "code",
   "execution_count": 2,
   "id": "a5223b82",
   "metadata": {},
   "outputs": [
    {
     "name": "stdout",
     "output_type": "stream",
     "text": [
      "{'b': 4, 'c': 16}\n"
     ]
    }
   ],
   "source": [
    "simple_dict = {\n",
    "    'a': 1,\n",
    "    'b':2,\n",
    "    'c': 4\n",
    "}\n",
    "hash_table = {key:value**2 for key, value in simple_dict.items()\n",
    "             if value % 2 == 0}\n",
    "print(hash_table)"
   ]
  },
  {
   "cell_type": "markdown",
   "id": "291e13e1",
   "metadata": {},
   "source": [
    "Below is an example where for each no. in the list, we have item in the array as key and item * 2 as value."
   ]
  },
  {
   "cell_type": "code",
   "execution_count": 5,
   "id": "d3d852e1",
   "metadata": {
    "scrolled": true
   },
   "outputs": [
    {
     "name": "stdout",
     "output_type": "stream",
     "text": [
      "{1: 2, 2: 4, 3: 6}\n"
     ]
    }
   ],
   "source": [
    "my_dictionary = {num: num * 2 for num in [1,2,3]}\n",
    "print(my_dictionary)"
   ]
  }
 ],
 "metadata": {
  "kernelspec": {
   "display_name": "Python 3.9.12 ('base')",
   "language": "python",
   "name": "python3"
  },
  "language_info": {
   "codemirror_mode": {
    "name": "ipython",
    "version": 3
   },
   "file_extension": ".py",
   "mimetype": "text/x-python",
   "name": "python",
   "nbconvert_exporter": "python",
   "pygments_lexer": "ipython3",
   "version": "3.9.12"
  },
  "vscode": {
   "interpreter": {
    "hash": "9e0493c01e5c605911eb56ab5078ad68602ef442154612cb5b43a7fdd4b978e8"
   }
  }
 },
 "nbformat": 4,
 "nbformat_minor": 5
}
